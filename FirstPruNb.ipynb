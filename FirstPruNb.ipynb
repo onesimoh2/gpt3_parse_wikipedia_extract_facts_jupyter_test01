{
 "cells": [
  {
   "cell_type": "code",
   "execution_count": 26,
   "metadata": {},
   "outputs": [
    {
     "name": "stdout",
     "output_type": "stream",
     "text": [
      "\n",
      "\n",
      "1. Guillermo Cabrera Infante was born in 1941 in Gibara, Cuba. \n",
      "2. He moved to Havana with his parents at the age of six. \n",
      "3. Cabrera Infante studied journalism at the University of Havana. \n",
      "4. He became the editor of the magazine Carteles in 1957. \n",
      "5. Cabrera Infante divorced his first wife in 1961 and married his second wife, Miriam Gomez, an actress. \n",
      "6. He served as a cultural attaché in Brussels, Belgium, from 1962 to 1965. \n",
      "7. He went into exile in Madrid in 1965 and then London in 1966. \n",
      "8. Cabrera Infante published Tres tristes tigres, a highly experimental, Joycean novel, in 1966. \n",
      "9. He co-wrote the script for Richard C. Sarafian's 1971 cult film Vanishing Point under the pseudonym Guillermo Caín. \n",
      "10. Cabrera Infante was influential to Puerto Rican and Cuban writers such as Luis Rafael Sánchez (La guaracha del Macho Camacho) and Fernando Velázquez Medina (Última rumba en La Habana). \n",
      "11. In 1997 he received the Premio Cervantes, presented to him by King Juan Carlos of Spain. \n",
      "12. Cabrera Infante died on February 21, 2005, in London, of sepsis. \n",
      "13. He is best known for his novel Tres tristes tigres, which was later republished as Ella Cantaba Boleros. \n",
      "14. Cabrera Infante also wrote a number of other novels, short stories, and essays. \n",
      "15. His work is considered to be highly experimental and avant-garde. \n",
      "16. Cabrera Infante was a member of the Cuban Communist Party. \n",
      "17. He was critical of the Castro regime and its treatment of writers and intellectuals. \n",
      "18. Cabrera Infante was awarded the Premio Cervantes, the highest honor given to a Spanish-language writer, in 1997. \n",
      "19. He was also nominated for the Nobel Prize in Literature in 2004. \n",
      "20. Cabrera Infante died in London in 2005 at the age of 74.\n"
     ]
    },
    {
     "ename": "KeyboardInterrupt",
     "evalue": "",
     "output_type": "error",
     "traceback": [
      "\u001b[1;31m---------------------------------------------------------------------------\u001b[0m",
      "\u001b[1;31mKeyboardInterrupt\u001b[0m                         Traceback (most recent call last)",
      "Cell \u001b[1;32mIn[26], line 57\u001b[0m\n\u001b[0;32m     51\u001b[0m list_of_facts \u001b[39m=\u001b[39m response[\u001b[39m'\u001b[39m\u001b[39mchoices\u001b[39m\u001b[39m'\u001b[39m][\u001b[39m0\u001b[39m][\u001b[39m'\u001b[39m\u001b[39mtext\u001b[39m\u001b[39m'\u001b[39m]\n\u001b[0;32m     52\u001b[0m \u001b[39mprint\u001b[39m(list_of_facts)\n\u001b[1;32m---> 57\u001b[0m wik \u001b[39m=\u001b[39m wikipedia\u001b[39m.\u001b[39mpage(\u001b[39m\"\u001b[39m\u001b[39mGuillermo Cabrera Infante\u001b[39m\u001b[39m\"\u001b[39m)\n\u001b[0;32m     58\u001b[0m cont \u001b[39m=\u001b[39m wik\u001b[39m.\u001b[39mcontent\n\u001b[0;32m     59\u001b[0m \u001b[39mprint\u001b[39m(cont)\n",
      "Cell \u001b[1;32mIn[26], line 57\u001b[0m\n\u001b[0;32m     51\u001b[0m list_of_facts \u001b[39m=\u001b[39m response[\u001b[39m'\u001b[39m\u001b[39mchoices\u001b[39m\u001b[39m'\u001b[39m][\u001b[39m0\u001b[39m][\u001b[39m'\u001b[39m\u001b[39mtext\u001b[39m\u001b[39m'\u001b[39m]\n\u001b[0;32m     52\u001b[0m \u001b[39mprint\u001b[39m(list_of_facts)\n\u001b[1;32m---> 57\u001b[0m wik \u001b[39m=\u001b[39m wikipedia\u001b[39m.\u001b[39mpage(\u001b[39m\"\u001b[39m\u001b[39mGuillermo Cabrera Infante\u001b[39m\u001b[39m\"\u001b[39m)\n\u001b[0;32m     58\u001b[0m cont \u001b[39m=\u001b[39m wik\u001b[39m.\u001b[39mcontent\n\u001b[0;32m     59\u001b[0m \u001b[39mprint\u001b[39m(cont)\n",
      "File \u001b[1;32m_pydevd_bundle/pydevd_cython.pyx:1457\u001b[0m, in \u001b[0;36m_pydevd_bundle.pydevd_cython.SafeCallWrapper.__call__\u001b[1;34m()\u001b[0m\n",
      "File \u001b[1;32m_pydevd_bundle/pydevd_cython.pyx:701\u001b[0m, in \u001b[0;36m_pydevd_bundle.pydevd_cython.PyDBFrame.trace_dispatch\u001b[1;34m()\u001b[0m\n",
      "File \u001b[1;32m_pydevd_bundle/pydevd_cython.pyx:1152\u001b[0m, in \u001b[0;36m_pydevd_bundle.pydevd_cython.PyDBFrame.trace_dispatch\u001b[1;34m()\u001b[0m\n",
      "File \u001b[1;32m_pydevd_bundle/pydevd_cython.pyx:1135\u001b[0m, in \u001b[0;36m_pydevd_bundle.pydevd_cython.PyDBFrame.trace_dispatch\u001b[1;34m()\u001b[0m\n",
      "File \u001b[1;32m_pydevd_bundle/pydevd_cython.pyx:312\u001b[0m, in \u001b[0;36m_pydevd_bundle.pydevd_cython.PyDBFrame.do_wait_suspend\u001b[1;34m()\u001b[0m\n",
      "File \u001b[1;32mc:\\Projrcts\\Python\\MSJupiter\\gpt3_parse_wikipedia_extract_facts_jupyter_test01\\venv\\lib\\site-packages\\debugpy\\_vendored\\pydevd\\pydevd.py:2070\u001b[0m, in \u001b[0;36mPyDB.do_wait_suspend\u001b[1;34m(self, thread, frame, event, arg, exception_type)\u001b[0m\n\u001b[0;32m   2067\u001b[0m             from_this_thread\u001b[39m.\u001b[39mappend(frame_custom_thread_id)\n\u001b[0;32m   2069\u001b[0m     \u001b[39mwith\u001b[39;00m \u001b[39mself\u001b[39m\u001b[39m.\u001b[39m_threads_suspended_single_notification\u001b[39m.\u001b[39mnotify_thread_suspended(thread_id, thread, stop_reason):\n\u001b[1;32m-> 2070\u001b[0m         keep_suspended \u001b[39m=\u001b[39m \u001b[39mself\u001b[39;49m\u001b[39m.\u001b[39;49m_do_wait_suspend(thread, frame, event, arg, suspend_type, from_this_thread, frames_tracker)\n\u001b[0;32m   2072\u001b[0m frames_list \u001b[39m=\u001b[39m \u001b[39mNone\u001b[39;00m\n\u001b[0;32m   2074\u001b[0m \u001b[39mif\u001b[39;00m keep_suspended:\n\u001b[0;32m   2075\u001b[0m     \u001b[39m# This means that we should pause again after a set next statement.\u001b[39;00m\n",
      "File \u001b[1;32mc:\\Projrcts\\Python\\MSJupiter\\gpt3_parse_wikipedia_extract_facts_jupyter_test01\\venv\\lib\\site-packages\\debugpy\\_vendored\\pydevd\\pydevd.py:2106\u001b[0m, in \u001b[0;36mPyDB._do_wait_suspend\u001b[1;34m(self, thread, frame, event, arg, suspend_type, from_this_thread, frames_tracker)\u001b[0m\n\u001b[0;32m   2103\u001b[0m         \u001b[39mself\u001b[39m\u001b[39m.\u001b[39m_call_input_hook()\n\u001b[0;32m   2105\u001b[0m     \u001b[39mself\u001b[39m\u001b[39m.\u001b[39mprocess_internal_commands()\n\u001b[1;32m-> 2106\u001b[0m     time\u001b[39m.\u001b[39;49msleep(\u001b[39m0.01\u001b[39;49m)\n\u001b[0;32m   2108\u001b[0m \u001b[39mself\u001b[39m\u001b[39m.\u001b[39mcancel_async_evaluation(get_current_thread_id(thread), \u001b[39mstr\u001b[39m(\u001b[39mid\u001b[39m(frame)))\n\u001b[0;32m   2110\u001b[0m \u001b[39m# process any stepping instructions\u001b[39;00m\n",
      "\u001b[1;31mKeyboardInterrupt\u001b[0m: "
     ]
    }
   ],
   "source": [
    "\n",
    "import openai\n",
    "import wikipediaapi\n",
    "\n",
    "#Function to recursively get all the texts by sections\n",
    "def get_sections(sections, level=0, all_text_by_sections = []):\n",
    "    for s in sections:\n",
    "            all_text_by_sections.append(s.text)\n",
    "            all_text_by_sections = get_sections(s.sections, level + 1, all_text_by_sections)\n",
    "    return all_text_by_sections\n",
    "\n",
    "wiki_wiki = wikipediaapi.Wikipedia('en') #Use Wikipedia in English\n",
    "page_py = wiki_wiki.page('Guillermo Cabrera Infante') #Get one page corresponding to an author\n",
    "\n",
    "all_text_by_sections = get_sections(page_py.sections) #Get all data\n",
    "\n",
    "prompt_prefix = \"Using the following text:  text:\"\n",
    "prompt_suffix = \"Write a summary keeping the most significant facts defining the character.\"\n",
    "openai.api_key = \"\" #here it goes the OpenAI key\n",
    "\n",
    "#Reducing the amount of text by creating a summary of each one\n",
    "all_text_summary = []\n",
    "for subtext in all_text_by_sections:\n",
    "    prompt = prompt_prefix + subtext + prompt_suffix\n",
    "    response = openai.Completion.create(\n",
    "                engine=\"text-davinci-002\",\n",
    "                prompt=prompt,\n",
    "                temperature=0.0,\n",
    "                max_tokens=1256,\n",
    "                top_p=1.0,\n",
    "                frequency_penalty=0.0,\n",
    "                presence_penalty=0.0\n",
    "                )\n",
    "    summary = response['choices'][0]['text']\n",
    "    all_text_summary.append(summary)\n",
    "\n",
    "#Adding all the summary together.\n",
    "compilation_of_texts = \"\"\n",
    "for text_summary in all_text_summary:\n",
    "    compilation_of_texts = compilation_of_texts + text_summary\n",
    "\n",
    "final_text = compilation_of_texts[:2000] #Reducing its length not to exceed capacity.\n",
    "\n",
    "prompt_suffix = \"Write 20 facts describing the life of the author.\"\n",
    "prompt = prompt_prefix + final_text + prompt_suffix\n",
    "response = openai.Completion.create(\n",
    "            engine=\"text-davinci-002\",\n",
    "            prompt=prompt,\n",
    "            temperature=0.0,\n",
    "            max_tokens=1556,\n",
    "            top_p=1.0,\n",
    "            frequency_penalty=0.0,\n",
    "            presence_penalty=0.0\n",
    "            )\n",
    "\n",
    "list_of_facts = response['choices'][0]['text'] #Get the list of 20 facts\n",
    "print(list_of_facts)\n",
    "\n",
    "\n",
    "\n",
    "\n"
   ]
  },
  {
   "cell_type": "code",
   "execution_count": null,
   "metadata": {},
   "outputs": [],
   "source": [
    "%pip install wikipedia-api"
   ]
  }
 ],
 "metadata": {
  "kernelspec": {
   "display_name": "Python 3",
   "language": "python",
   "name": "python3"
  },
  "language_info": {
   "codemirror_mode": {
    "name": "ipython",
    "version": 3
   },
   "file_extension": ".py",
   "mimetype": "text/x-python",
   "name": "python",
   "nbconvert_exporter": "python",
   "pygments_lexer": "ipython3",
   "version": "3.9.1"
  },
  "orig_nbformat": 4
 },
 "nbformat": 4,
 "nbformat_minor": 2
}
